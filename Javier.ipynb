{
 "cells": [
  {
   "cell_type": "markdown",
   "metadata": {},
   "source": [
    "## FizzBuzz"
   ]
  },
  {
   "cell_type": "code",
   "execution_count": 17,
   "metadata": {
    "collapsed": false
   },
   "outputs": [
    {
     "name": "stdout",
     "output_type": "stream",
     "text": [
      "1\n",
      "2\n",
      "Fizz\n",
      "4\n",
      "Buzz\n",
      "Fizz\n",
      "7\n",
      "8\n",
      "Fizz\n",
      "Buzz\n",
      "11\n",
      "Fizz\n",
      "13\n",
      "14\n",
      "FizzBuzz\n",
      "16\n",
      "17\n",
      "Fizz\n",
      "19\n",
      "Buzz\n",
      "Fizz\n",
      "22\n",
      "23\n",
      "Fizz\n",
      "Buzz\n",
      "26\n",
      "Fizz\n",
      "28\n",
      "29\n",
      "FizzBuzz\n",
      "31\n",
      "32\n",
      "Fizz\n",
      "34\n",
      "Buzz\n",
      "Fizz\n",
      "37\n",
      "38\n",
      "Fizz\n",
      "Buzz\n",
      "41\n",
      "Fizz\n",
      "43\n",
      "44\n",
      "FizzBuzz\n",
      "46\n",
      "47\n",
      "Fizz\n",
      "49\n",
      "Buzz\n",
      "Fizz\n",
      "52\n",
      "53\n",
      "Fizz\n",
      "Buzz\n",
      "56\n",
      "Fizz\n",
      "58\n",
      "59\n",
      "FizzBuzz\n",
      "61\n",
      "62\n",
      "Fizz\n",
      "64\n",
      "Buzz\n",
      "Fizz\n",
      "67\n",
      "68\n",
      "Fizz\n",
      "Buzz\n",
      "71\n",
      "Fizz\n",
      "73\n",
      "74\n",
      "FizzBuzz\n",
      "76\n",
      "77\n",
      "Fizz\n",
      "79\n",
      "Buzz\n",
      "Fizz\n",
      "82\n",
      "83\n",
      "Fizz\n",
      "Buzz\n",
      "86\n",
      "Fizz\n",
      "88\n",
      "89\n",
      "FizzBuzz\n",
      "91\n",
      "92\n",
      "Fizz\n",
      "94\n",
      "Buzz\n",
      "Fizz\n",
      "97\n",
      "98\n",
      "Fizz\n",
      "Buzz\n"
     ]
    }
   ],
   "source": [
    "for i in range (1,101):\n",
    "    if not(i%3):\n",
    "        if not(i%15):\n",
    "            print 'FizzBuzz'\n",
    "        else:\n",
    "            print 'Fizz'\n",
    "    elif not(i%5):\n",
    "        print 'Buzz'\n",
    "    else:\n",
    "        print i\n",
    "    "
   ]
  },
  {
   "cell_type": "markdown",
   "metadata": {},
   "source": [
    "## Fibonacсi 100"
   ]
  },
  {
   "cell_type": "code",
   "execution_count": 26,
   "metadata": {
    "collapsed": false
   },
   "outputs": [
    {
     "name": "stdout",
     "output_type": "stream",
     "text": [
      "218922995834555169026\n"
     ]
    }
   ],
   "source": [
    " a = 1\n",
    " b = 1\n",
    " c = 0\n",
    "for i in range(1,98):\n",
    "    c = a+b\n",
    "    a = b\n",
    "    b = c\n",
    "print c\n",
    "    \n",
    "    \n",
    "    "
   ]
  },
  {
   "cell_type": "markdown",
   "metadata": {},
   "source": [
    "## numpy.linspace = linch"
   ]
  },
  {
   "cell_type": "code",
   "execution_count": 53,
   "metadata": {
    "collapsed": false
   },
   "outputs": [
    {
     "name": "stdout",
     "output_type": "stream",
     "text": [
      "The slowest run took 5.60 times longer than the fastest. This could mean that an intermediate result is being cached.\n",
      "100000 loops, best of 3: 9.45 µs per loop\n"
     ]
    }
   ],
   "source": [
    "import numpy as np\n",
    "%timeit numpy.linspace(2.0, 8.0, num=5)"
   ]
  },
  {
   "cell_type": "code",
   "execution_count": 54,
   "metadata": {
    "collapsed": false
   },
   "outputs": [
    {
     "name": "stdout",
     "output_type": "stream",
     "text": [
      "The slowest run took 5.58 times longer than the fastest. This could mean that an intermediate result is being cached.\n",
      "100000 loops, best of 3: 2.13 µs per loop\n"
     ]
    }
   ],
   "source": [
    "def linch(a, b, num):\n",
    "    x = 0\n",
    "    x = float(b-a)/(num-1)\n",
    "    list = []\n",
    "    for i in range (0,num):\n",
    "        list.append(a+i*x) \n",
    "    return list\n",
    "%timeit linch(2, 8, 5)"
   ]
  },
  {
   "cell_type": "code",
   "execution_count": 55,
   "metadata": {
    "collapsed": false
   },
   "outputs": [
    {
     "name": "stdout",
     "output_type": "stream",
     "text": [
      "The slowest run took 6.04 times longer than the fastest. This could mean that an intermediate result is being cached.\n",
      "100000 loops, best of 3: 2.13 µs per loop\n"
     ]
    }
   ],
   "source": [
    "def linch_com(a, b, num):\n",
    "    list = [a+i*float((b-a)/(num-1)) for i in range(0,num)]\n",
    "    return list\n",
    "%timeit linch(2, 8, 5)"
   ]
  },
  {
   "cell_type": "markdown",
   "metadata": {},
   "source": [
    "## Matplotlib"
   ]
  },
  {
   "cell_type": "code",
   "execution_count": 140,
   "metadata": {
    "collapsed": false
   },
   "outputs": [
    {
     "data": {
      "image/png": "[encoded data removed]",
      "text/plain": [
       "<matplotlib.figure.Figure at 0x7fef7004f150>"
      ]
     },
     "metadata": {},
     "output_type": "display_data"
    }
   ],
   "source": [
    "import numpy as np\n",
    "import matplotlib.pyplot as plt\n",
    "x = np.arange(0.1,2, 0.01)\n",
    "plt.plot(x,np.exp(x),'y--', label=r'y = $e^x$') #Построение графика\n",
    "plt.plot(x,np.sqrt(10*x),'g-', label=r'y = $\\sqrt{10x}$')\n",
    "plt.plot(x,1.0/x,label=r'y = $\\frac{1}{x}$')\n",
    "plt.xlabel(r'$x$') #Метка по оси x в формате TeX\n",
    "plt.ylabel(r'$y$') #Метка по оси y в формате TeX\n",
    "plt.legend(bbox_to_anchor=(0.5,0.95),loc = 2)\n",
    "\n",
    "plt.show() #Показать график"
   ]
  },
  {
   "cell_type": "code",
   "execution_count": 116,
   "metadata": {
    "collapsed": false
   },
   "outputs": [
    {
     "data": {
      "image/png": "[encoded data removed]",
      "text/plain": [
       "<matplotlib.figure.Figure at 0x7fef7029b990>"
      ]
     },
     "metadata": {},
     "output_type": "display_data"
    }
   ],
   "source": [
    "import numpy as np\n",
    "import matplotlib.pyplot as plt\n",
    "\n",
    "t1 = np.arange(0.1,2, 0.01)\n",
    "t2 = np.arange(0.0, 2*(np.pi), 0.02)\n",
    "\n",
    "plt.subplot(221)\n",
    "plt.plot(x,np.exp(x),'g-', x,np.sqrt(10*x),'y--',x,1.0/x)\n",
    "plt.xlabel(r'$x$')\n",
    "plt.ylabel(r'$y$') \n",
    "plt.title(r'$y = \\sqrt{10x},\\ y = e^x,\\ y = \\frac{1}{x}$') \n",
    "\n",
    "plt.subplot(222)\n",
    "plt.plot(t2, np.sin(t2), 'c--')\n",
    "plt.xlabel(r'$x$')\n",
    "plt.title(r'$y = \\sin(x)$')\n",
    "\n",
    "plt.savefig('Javier.png', format='png')\n",
    "plt.show()"
   ]
  },
  {
   "cell_type": "markdown",
   "metadata": {},
   "source": [
    "## SciPy"
   ]
  },
  {
   "cell_type": "code",
   "execution_count": 181,
   "metadata": {
    "collapsed": false
   },
   "outputs": [
    {
     "name": "stdout",
     "output_type": "stream",
     "text": [
      "[[ 0.45340476  0.40226108  0.06224646 -0.76011954  0.89890197]\n",
      " [-0.65301856  0.46391105  0.57199303  0.40125698 -0.51601995]\n",
      " [-0.63008441  0.75342348  0.39812714 -0.30687147  2.41732321]\n",
      " [-0.74393918 -0.61084482 -0.07273948  0.53818681  0.56773758]\n",
      " [ 0.62404388  0.91187249 -1.89787964 -0.20037833 -0.21328067]]\n",
      "(array([-0.22897494+2.12846897j, -0.22897494-2.12846897j,\n",
      "        1.09685424+0.64177081j,  1.09685424-0.64177081j, -0.09540951+0.j        ]), array([[ 0.25371886+0.01292389j,  0.25371886-0.01292389j,\n",
      "        -0.21644061-0.41669854j, -0.21644061+0.41669854j, -0.61160190+0.j        ],\n",
      "       [-0.18497052-0.08698766j, -0.18497052+0.08698766j,\n",
      "         0.61990921+0.j        ,  0.61990921-0.j        , -0.15133750+0.j        ],\n",
      "       [ 0.67978180+0.j        ,  0.67978180-0.j        ,\n",
      "         0.30116645-0.14776922j,  0.30116645+0.14776922j, -0.18578756+0.j        ],\n",
      "       [ 0.18776473-0.00118641j,  0.18776473+0.00118641j,\n",
      "         0.04501680+0.51652158j,  0.04501680-0.51652158j, -0.73513277+0.j        ],\n",
      "       [-0.02872910+0.62888243j, -0.02872910-0.62888243j,\n",
      "        -0.11762949-0.00579982j, -0.11762949+0.00579982j, -0.16763911+0.j        ]]))\n"
     ]
    }
   ],
   "source": [
    "import scipy as sc\n",
    "a = sc.random.standard_normal((5,5))\n",
    "#a = ([1,2],[0,1])\n",
    "print a\n",
    "#eig_va = np.linalg.eigvals(a)\n",
    "eig = np.linalg.eig(a)\n",
    "print eig"
   ]
  },
  {
   "cell_type": "code",
   "execution_count": 183,
   "metadata": {
    "collapsed": false
   },
   "outputs": [
    {
     "name": "stdout",
     "output_type": "stream",
     "text": [
      "0 (3.73296147916e-15+1.52777429031e-14j)\n",
      "1 (3.73296147916e-15-1.52777429031e-14j)\n",
      "2 (2.28139235867e-15-1.73165906422e-16j)\n",
      "3 (2.28139235867e-15+1.73165906422e-16j)\n",
      "4 (1.65578245082e-15+0j)\n"
     ]
    }
   ],
   "source": [
    "va = eig[0]\n",
    "ve = np.transpose(eig[1])\n",
    "for j in range(0,5):\n",
    "    det = np.linalg.det(a - va[j] * np.identity(5))\n",
    "    print j,det"
   ]
  },
  {
   "cell_type": "code",
   "execution_count": 184,
   "metadata": {
    "collapsed": false
   },
   "outputs": [
    {
     "name": "stdout",
     "output_type": "stream",
     "text": [
      "0 [ -4.16333634e-16 +2.22044605e-16j   2.77555756e-16 +0.00000000e+00j\n",
      "  -6.10622664e-16 +0.00000000e+00j  -1.73472348e-16 +1.66533454e-16j\n",
      "   2.22044605e-16 +9.71445147e-16j]\n",
      "1 [ -4.16333634e-16 -2.22044605e-16j   2.77555756e-16 +0.00000000e+00j\n",
      "  -6.10622664e-16 +0.00000000e+00j  -1.73472348e-16 -1.66533454e-16j\n",
      "   2.22044605e-16 -9.71445147e-16j]\n",
      "2 [ -9.71445147e-17 +0.00000000e+00j  -2.22044605e-16 +0.00000000e+00j\n",
      "   2.22044605e-16 -1.00613962e-16j   1.11022302e-16 -5.55111512e-16j\n",
      "  -5.55111512e-17 +9.71445147e-17j]\n",
      "3 [ -9.71445147e-17 +0.00000000e+00j  -2.22044605e-16 +0.00000000e+00j\n",
      "   2.22044605e-16 +1.00613962e-16j   1.11022302e-16 +5.55111512e-16j\n",
      "  -5.55111512e-17 -9.71445147e-17j]\n",
      "4 [  5.55111512e-17+0.j  -4.33680869e-17+0.j   1.66533454e-16+0.j\n",
      "  -1.52655666e-16+0.j   3.88578059e-16+0.j]\n"
     ]
    }
   ],
   "source": [
    "for j in range(0,5):\n",
    "    err = np.dot(a,ve[j]) - va[j]*ve[j]\n",
    "    print j,err\n",
    "#маленькие и окей"
   ]
  },
  {
   "cell_type": "code",
   "execution_count": null,
   "metadata": {
    "collapsed": true
   },
   "outputs": [],
   "source": []
  }
 ],
 "metadata": {
  "kernelspec": {
   "display_name": "Python [conda root]",
   "language": "python",
   "name": "conda-root-py"
  },
  "language_info": {
   "codemirror_mode": {
    "name": "ipython",
    "version": 2
   },
   "file_extension": ".py",
   "mimetype": "text/x-python",
   "name": "python",
   "nbconvert_exporter": "python",
   "pygments_lexer": "ipython2",
   "version": "2.7.12"
  }
 },
 "nbformat": 4,
 "nbformat_minor": 1
}
